{
 "cells": [
  {
   "cell_type": "code",
   "execution_count": 1,
   "metadata": {},
   "outputs": [],
   "source": [
    "a=[10,15,20,30]"
   ]
  },
  {
   "cell_type": "code",
   "execution_count": 2,
   "metadata": {},
   "outputs": [],
   "source": [
    "b=[20,25,50,80]"
   ]
  },
  {
   "cell_type": "code",
   "execution_count": 3,
   "metadata": {},
   "outputs": [],
   "source": [
    "c=[50,54,55,70]"
   ]
  },
  {
   "cell_type": "code",
   "execution_count": 4,
   "metadata": {},
   "outputs": [],
   "source": [
    "d=[30,35,60,13]"
   ]
  },
  {
   "cell_type": "code",
   "execution_count": 5,
   "metadata": {},
   "outputs": [],
   "source": [
    "e=[40,45,70,30]"
   ]
  },
  {
   "cell_type": "code",
   "execution_count": 6,
   "metadata": {},
   "outputs": [],
   "source": [
    "f=[60,66,12,17]"
   ]
  },
  {
   "cell_type": "code",
   "execution_count": 7,
   "metadata": {},
   "outputs": [],
   "source": [
    "#1)Sum the numbers on each line."
   ]
  },
  {
   "cell_type": "code",
   "execution_count": 8,
   "metadata": {},
   "outputs": [
    {
     "name": "stdout",
     "output_type": "stream",
     "text": [
      "Sum of the first line is: 75\n"
     ]
    }
   ],
   "source": [
    "suma_a=sum(a);\n",
    "print('Sum of the first line is: '+str(suma_a) )"
   ]
  },
  {
   "cell_type": "code",
   "execution_count": 9,
   "metadata": {},
   "outputs": [
    {
     "name": "stdout",
     "output_type": "stream",
     "text": [
      "Sum of the second line is: 175\n"
     ]
    }
   ],
   "source": [
    "suma_b=sum(b);\n",
    "print('Sum of the second line is: '+str(suma_b))"
   ]
  },
  {
   "cell_type": "code",
   "execution_count": 10,
   "metadata": {},
   "outputs": [
    {
     "name": "stdout",
     "output_type": "stream",
     "text": [
      "Sum of the third line is: 229\n"
     ]
    }
   ],
   "source": [
    "suma_c=sum(c);\n",
    "print('Sum of the third line is: '+str(suma_c))"
   ]
  },
  {
   "cell_type": "code",
   "execution_count": 11,
   "metadata": {},
   "outputs": [
    {
     "name": "stdout",
     "output_type": "stream",
     "text": [
      "Sum of the fourth line is: 138\n"
     ]
    }
   ],
   "source": [
    "suma_d=sum(d);\n",
    "print('Sum of the fourth line is: '+str(suma_d))"
   ]
  },
  {
   "cell_type": "code",
   "execution_count": 12,
   "metadata": {},
   "outputs": [
    {
     "name": "stdout",
     "output_type": "stream",
     "text": [
      "Sum of the fifth line is: 185\n"
     ]
    }
   ],
   "source": [
    "suma_e=sum(e);\n",
    "print('Sum of the fifth line is: '+str(suma_e))"
   ]
  },
  {
   "cell_type": "code",
   "execution_count": 13,
   "metadata": {},
   "outputs": [
    {
     "name": "stdout",
     "output_type": "stream",
     "text": [
      "Sum of the sixth line is: 155\n"
     ]
    }
   ],
   "source": [
    "suma_f=sum(f);\n",
    "print('Sum of the sixth line is: '+str(suma_f))"
   ]
  },
  {
   "cell_type": "code",
   "execution_count": 14,
   "metadata": {},
   "outputs": [],
   "source": [
    "#2) Sum all the numbers."
   ]
  },
  {
   "cell_type": "code",
   "execution_count": 16,
   "metadata": {},
   "outputs": [
    {
     "name": "stdout",
     "output_type": "stream",
     "text": [
      "Sum of all numbers is: 957\n"
     ]
    }
   ],
   "source": [
    "suma_vectorilor=suma_a+suma_b+suma_c+suma_d+suma_e+suma_f;\n",
    "print('Sum of all numbers is: '+str(suma_vectorilor))"
   ]
  },
  {
   "cell_type": "code",
   "execution_count": 17,
   "metadata": {},
   "outputs": [],
   "source": [
    "#3) Concatenete them all into a single list."
   ]
  },
  {
   "cell_type": "code",
   "execution_count": 18,
   "metadata": {},
   "outputs": [
    {
     "name": "stdout",
     "output_type": "stream",
     "text": [
      "Concatenated list: [10, 15, 20, 30, 20, 25, 50, 80, 50, 54, 55, 70, 30, 35, 60, 13, 40, 45, 70, 30, 60, 66, 12, 17]\n"
     ]
    }
   ],
   "source": [
    "vector=a+b+c+d+e+f;\n",
    "print('Concatenated list: '+ str(vector))"
   ]
  },
  {
   "cell_type": "code",
   "execution_count": 19,
   "metadata": {},
   "outputs": [],
   "source": [
    "#4) Count how many of them are larger than 30.1."
   ]
  },
  {
   "cell_type": "code",
   "execution_count": 57,
   "metadata": {},
   "outputs": [
    {
     "name": "stdout",
     "output_type": "stream",
     "text": [
      "There are 13 numbers in our list greater then 30.1\n"
     ]
    }
   ],
   "source": [
    "count=0\n",
    "for i in vector:\n",
    "    if i> 30.1:\n",
    "        count=count+1\n",
    "print(f'There are {count} numbers in our list greater then 30.1')"
   ]
  },
  {
   "cell_type": "code",
   "execution_count": null,
   "metadata": {},
   "outputs": [],
   "source": [
    "#5) 1. For each natural number threshold from 1 to 100 show how many numbers are smaller than it."
   ]
  },
  {
   "cell_type": "code",
   "execution_count": 123,
   "metadata": {},
   "outputs": [
    {
     "name": "stdout",
     "output_type": "stream",
     "text": [
      "There are 0 numbers smaller than 1 in our list\n",
      "There are 0 numbers smaller than 2 in our list\n",
      "There are 0 numbers smaller than 3 in our list\n",
      "There are 0 numbers smaller than 4 in our list\n",
      "There are 0 numbers smaller than 5 in our list\n",
      "There are 0 numbers smaller than 6 in our list\n",
      "There are 0 numbers smaller than 7 in our list\n",
      "There are 0 numbers smaller than 8 in our list\n",
      "There are 0 numbers smaller than 9 in our list\n",
      "There are 0 numbers smaller than 10 in our list\n",
      "There are 0 numbers smaller than 11 in our list\n",
      "There are 0 numbers smaller than 12 in our list\n",
      "There are 1 numbers smaller than 13 in our list\n",
      "There are 2 numbers smaller than 14 in our list\n",
      "There are 2 numbers smaller than 15 in our list\n",
      "There are 3 numbers smaller than 16 in our list\n",
      "There are 3 numbers smaller than 17 in our list\n",
      "There are 4 numbers smaller than 18 in our list\n",
      "There are 4 numbers smaller than 19 in our list\n",
      "There are 4 numbers smaller than 20 in our list\n",
      "There are 6 numbers smaller than 21 in our list\n",
      "There are 6 numbers smaller than 22 in our list\n",
      "There are 6 numbers smaller than 23 in our list\n",
      "There are 6 numbers smaller than 24 in our list\n",
      "There are 6 numbers smaller than 25 in our list\n",
      "There are 7 numbers smaller than 26 in our list\n",
      "There are 7 numbers smaller than 27 in our list\n",
      "There are 7 numbers smaller than 28 in our list\n",
      "There are 7 numbers smaller than 29 in our list\n",
      "There are 7 numbers smaller than 30 in our list\n",
      "There are 10 numbers smaller than 31 in our list\n",
      "There are 10 numbers smaller than 32 in our list\n",
      "There are 10 numbers smaller than 33 in our list\n",
      "There are 10 numbers smaller than 34 in our list\n",
      "There are 10 numbers smaller than 35 in our list\n",
      "There are 11 numbers smaller than 36 in our list\n",
      "There are 11 numbers smaller than 37 in our list\n",
      "There are 11 numbers smaller than 38 in our list\n",
      "There are 11 numbers smaller than 39 in our list\n",
      "There are 11 numbers smaller than 40 in our list\n",
      "There are 12 numbers smaller than 41 in our list\n",
      "There are 12 numbers smaller than 42 in our list\n",
      "There are 12 numbers smaller than 43 in our list\n",
      "There are 12 numbers smaller than 44 in our list\n",
      "There are 12 numbers smaller than 45 in our list\n",
      "There are 13 numbers smaller than 46 in our list\n",
      "There are 13 numbers smaller than 47 in our list\n",
      "There are 13 numbers smaller than 48 in our list\n",
      "There are 13 numbers smaller than 49 in our list\n",
      "There are 13 numbers smaller than 50 in our list\n",
      "There are 15 numbers smaller than 51 in our list\n",
      "There are 15 numbers smaller than 52 in our list\n",
      "There are 15 numbers smaller than 53 in our list\n",
      "There are 15 numbers smaller than 54 in our list\n",
      "There are 16 numbers smaller than 55 in our list\n",
      "There are 17 numbers smaller than 56 in our list\n",
      "There are 17 numbers smaller than 57 in our list\n",
      "There are 17 numbers smaller than 58 in our list\n",
      "There are 17 numbers smaller than 59 in our list\n",
      "There are 17 numbers smaller than 60 in our list\n",
      "There are 19 numbers smaller than 61 in our list\n",
      "There are 19 numbers smaller than 62 in our list\n",
      "There are 19 numbers smaller than 63 in our list\n",
      "There are 19 numbers smaller than 64 in our list\n",
      "There are 19 numbers smaller than 65 in our list\n",
      "There are 19 numbers smaller than 66 in our list\n",
      "There are 20 numbers smaller than 67 in our list\n",
      "There are 20 numbers smaller than 68 in our list\n",
      "There are 20 numbers smaller than 69 in our list\n",
      "There are 20 numbers smaller than 70 in our list\n",
      "There are 22 numbers smaller than 71 in our list\n",
      "There are 22 numbers smaller than 72 in our list\n",
      "There are 22 numbers smaller than 73 in our list\n",
      "There are 22 numbers smaller than 74 in our list\n",
      "There are 22 numbers smaller than 75 in our list\n",
      "There are 22 numbers smaller than 76 in our list\n",
      "There are 22 numbers smaller than 77 in our list\n",
      "There are 22 numbers smaller than 78 in our list\n",
      "There are 22 numbers smaller than 79 in our list\n",
      "There are 22 numbers smaller than 80 in our list\n",
      "There are 23 numbers smaller than 81 in our list\n",
      "There are 23 numbers smaller than 82 in our list\n",
      "There are 23 numbers smaller than 83 in our list\n",
      "There are 23 numbers smaller than 84 in our list\n",
      "There are 23 numbers smaller than 85 in our list\n",
      "There are 23 numbers smaller than 86 in our list\n",
      "There are 23 numbers smaller than 87 in our list\n",
      "There are 23 numbers smaller than 88 in our list\n",
      "There are 23 numbers smaller than 89 in our list\n",
      "There are 23 numbers smaller than 90 in our list\n",
      "There are 23 numbers smaller than 91 in our list\n",
      "There are 23 numbers smaller than 92 in our list\n",
      "There are 23 numbers smaller than 93 in our list\n",
      "There are 23 numbers smaller than 94 in our list\n",
      "There are 23 numbers smaller than 95 in our list\n",
      "There are 23 numbers smaller than 96 in our list\n",
      "There are 23 numbers smaller than 97 in our list\n",
      "There are 23 numbers smaller than 98 in our list\n",
      "There are 23 numbers smaller than 99 in our list\n",
      "There are 23 numbers smaller than 100 in our list\n"
     ]
    }
   ],
   "source": [
    "count=0;\n",
    "for i in range(1, 101):\n",
    "    for j in range(1,len(vector)):\n",
    "        if vector[j] < i:\n",
    "            count+=1;\n",
    "    print(f'There are {count} numbers smaller than {i} in our list') \n",
    "    count=0;\n",
    "           "
   ]
  },
  {
   "cell_type": "markdown",
   "metadata": {},
   "source": []
  },
  {
   "cell_type": "code",
   "execution_count": null,
   "metadata": {},
   "outputs": [],
   "source": []
  }
 ],
 "metadata": {
  "kernelspec": {
   "display_name": "Python 3",
   "language": "python",
   "name": "python3"
  },
  "language_info": {
   "codemirror_mode": {
    "name": "ipython",
    "version": 3
   },
   "file_extension": ".py",
   "mimetype": "text/x-python",
   "name": "python",
   "nbconvert_exporter": "python",
   "pygments_lexer": "ipython3",
   "version": "3.7.4"
  }
 },
 "nbformat": 4,
 "nbformat_minor": 2
}
